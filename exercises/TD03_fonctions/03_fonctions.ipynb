{
 "cells": [
  {
   "cell_type": "markdown",
   "metadata": {},
   "source": [
    "# Instructions Générales\n",
    "\n",
    "Ce TD est à faire en créant un fichier td3.py, que vous éditerez dans VSCode. \n",
    "Vous ne remplirez pas les cellules de ce notebook, mais vous les copierez au fur et à mesure \n",
    "dans votre fichier pour les compléter.\n",
    "\n",
    "Vous respecterez au mieux les règles d'écriture de code, en particulier chaque fonction devra avoir un **docstring** et des commentaires si nécessaire et les noms de variable seront illustratifs de leur usage. Vous utiliserez les outils de débogage (flake8, mypy, debugger, pythontutor ...) pour corriger vos bogues."
   ]
  },
  {
   "cell_type": "markdown",
   "metadata": {},
   "source": [
    "# Gestion du temps\n",
    "\n",
    "Nous allons créer un petit logiciel de gestion du temps et des dates.\n",
    "Pour cela nous aurons besoin de créer un certain nombre de fonctions utilitaires.\n",
    "\n",
    "Un temps a le format suivant: (jour: int, heure: int, minute: int, seconde: int).\n",
    "C'est un tuple de 4 éléments. Par exemple (4,3,13,20) correspond à 4 jours, 3 heures, 13 minutes et 20 secondes.\n",
    "Si on une variable temps = (4,3,13,20), pour accéder au premier élément on fait temps\\[0\\] ce qui donne 4,\n",
    "le nombre de jours.\n",
    "\n",
    "Créer la fonction qui prend comme argument le temps et renvoie le nombre de seconde total correspondant à ce temps.\n",
    "Créer la fonction qui prend un nombre de secondes et renvoie le temps correspondante."
   ]
  },
  {
   "cell_type": "code",
   "execution_count": 10,
   "metadata": {},
   "outputs": [
    {
     "output_type": "stream",
     "name": "stdout",
     "text": [
      "<class 'tuple'>\n342094\n1 jours 3 heures 46 minutes 40 secondes\n"
     ]
    }
   ],
   "source": [
    "#temps[0] : jours, temps[1]: minutes, temps[2]: minutes, temps[3]: secondes\n",
    "\n",
    "def tempsEnSeconde(temps):\n",
    "    \"\"\" Renvoie la valeur en seconde de temps donné comme jour, heure, minute, seconde.\"\"\"\n",
    "    return (((temps[0] * 24) + temps[1])*60 + temps[2])*60 + temps[3]\n",
    "\n",
    "temps = (3,23,1,34)\n",
    "print(type(temps))\n",
    "print(tempsEnSeconde(temps))   \n",
    "\n",
    "def secondeEnTemps(seconde):\n",
    "    \"\"\"Renvoie le temps (jour, heure, minute, seconde) qui correspond au nombre de seconde passé en argument\"\"\"\n",
    "    minute = seconde // 60\n",
    "    seconde %= 60\n",
    "    heure = minute // 60 \n",
    "    minute %= 60\n",
    "    jour = heure // 24\n",
    "    heure %= 24\n",
    "    return (jour, heure, minute, seconde)    \n",
    "temps = secondeEnTemps(100000)\n",
    "print(temps[0],\"jours\",temps[1],\"heures\",temps[2],\"minutes\",temps[3],\"secondes\")"
   ]
  },
  {
   "cell_type": "markdown",
   "metadata": {},
   "source": [
    "Créer un fonction d'affichage d'un temps `afficheTemps`. Attention, les mots jour, heure et seconde doivent être au pluriel s'il y en a plusieurs. S'il y en a zéro, ils ne doivent pas apparaître.\n",
    "`print(message, end=\"\")` permet de ne pas sauter une ligne après un print. \n",
    "Vous pouvez écrire une fonction qui affiche un mot au pluriel ou non, appelée ensuite plusieurs fois par `afficheTemps` pour simplifier votre code.\n"
   ]
  },
  {
   "cell_type": "code",
   "execution_count": 42,
   "metadata": {},
   "outputs": [
    {
     "output_type": "stream",
     "name": "stdout",
     "text": [
      "  2 jours  14 minutes  23 secondes\n"
     ]
    }
   ],
   "source": [
    "#fonction auxiliaire ici\n",
    "def affichePluriel(val, mot):\n",
    "    if val != 0:\n",
    "        print(\" \",val,mot,end = \"\")\n",
    "    if val > 1:\n",
    "        print(\"s\",end = \"\")\n",
    "\n",
    "def afficheTemps(temps):\n",
    "    affichePluriel(temps[0], \"jour\")\n",
    "    affichePluriel(temps[1], \"heure\")\n",
    "    affichePluriel(temps[2], \"minute\")\n",
    "    affichePluriel(temps[3], \"seconde\")\n",
    "    print(\"\")\n",
    "    \n",
    "afficheTemps((2,0,14,23))"
   ]
  },
  {
   "cell_type": "markdown",
   "metadata": {},
   "source": [
    "Ecrire une fonction qui demande à l'utilisateur de rentrer un nombre de jours, d'heures, de minutes et\n",
    "de secondes et qui renvoie un temps. Attention, si l'entrée utilisateur n'est pas correcte, par exemple 80 minutes,\n",
    "afficher un message d'erreur et s'arrêter.\n",
    "\n",
    "(Optionnel) Au lieu d'arêter le programme, demander de rentrer une nouvelle valeur, tant que \n",
    "ce n'est pas une valeur correcte."
   ]
  },
  {
   "cell_type": "code",
   "execution_count": 14,
   "metadata": {},
   "outputs": [
    {
     "output_type": "stream",
     "name": "stdout",
     "text": [
      "  12 jours  12 heures  12 minutes  12 secondes\n"
     ]
    }
   ],
   "source": [
    "def demandeTemps():\n",
    "    jour = int(input(\"Combien de jours\"))\n",
    "    heure = int(input(\"Combien d'heures\"))\n",
    "    minute = int(input(\"Combien de minutes\"))\n",
    "    seconde = int(input(\"Combien de secondes\"))\n",
    "    if (seconde > 59 or minute > 59 or heure > 23):\n",
    "        print(\"Entrée mal formée, ce n'est pas une date.\")\n",
    "        return (0,0,0,0)\n",
    "    return (jour,heure,minute,seconde)\n",
    "\n",
    "afficheTemps(demandeTemps())"
   ]
  },
  {
   "cell_type": "markdown",
   "metadata": {},
   "source": [
    "On veut être capable d'additionner deux temps. Donner une fonction qui fait ce calcul,\n",
    "en utilisant les fonctions précédentes."
   ]
  },
  {
   "cell_type": "code",
   "execution_count": 6,
   "metadata": {},
   "outputs": [
    {
     "output_type": "stream",
     "name": "stdout",
     "text": [
      "(8, 2, 1, 26)\n"
     ]
    }
   ],
   "source": [
    "def sommeTemps(temps1,temps2):\n",
    "    return secondeEnTemps(tempsEnSeconde(temps1) + tempsEnSeconde(temps2))\n",
    "\n",
    "print(sommeTemps((2,3,4,25),(5,22,57,1)))"
   ]
  },
  {
   "cell_type": "markdown",
   "metadata": {},
   "source": [
    "On veut maintenant calculer un pourcentage d'un temps. Par exemple, 20% de\n",
    "2 jours et 36 minutes correspond à 9 heures, 43 minutes et 12 secondes.\n",
    "\n",
    "Implémenter la fonction `proportionTemps` puis appeler cette fonction en échangeant l'ordre des arguments mais en les nommant."
   ]
  },
  {
   "cell_type": "code",
   "execution_count": 7,
   "metadata": {},
   "outputs": [
    {
     "output_type": "stream",
     "name": "stdout",
     "text": [
      "  9 heures  43 minutes  12 secondes\n  9 heures  43 minutes  12 secondes\n"
     ]
    }
   ],
   "source": [
    "def proportionTemps(temps,proportion):\n",
    "    return secondeEnTemps(int(tempsEnSeconde(temps)*proportion))\n",
    "\n",
    "#1ère manière\n",
    "afficheTemps(proportionTemps((2,0,36,0),0.2))\n",
    "#2ème manière\n",
    "afficheTemps(proportionTemps(proportion = 0.2, temps = (2,0,36,0)))\n",
    "#appeler la fonction en échangeant l'ordre des arguments"
   ]
  },
  {
   "cell_type": "markdown",
   "metadata": {},
   "source": [
    "On veut maintenant afficher un temps sous forme de date, en supposant \n",
    "que le temps 0 est le 1 janvier 1970 à 00:00:00.\n",
    "\n",
    "* Implémenter une fonction `tempsEnDate`qui donne la date sous la forme (année, jour, heure, minute, seconde).\n",
    "* Implémenter la fonction `afficheDate`qui affiche la date. \n",
    "* (Optionnel) Gérer également les mois."
   ]
  },
  {
   "cell_type": "code",
   "execution_count": 8,
   "metadata": {},
   "outputs": [
    {
     "output_type": "stream",
     "name": "stdout",
     "text": [
      "Help on built-in module time:\n\nNAME\n    time - This module provides various functions to manipulate time values.\n\nDESCRIPTION\n    There are two standard representations of time.  One is the number\n    of seconds since the Epoch, in UTC (a.k.a. GMT).  It may be an integer\n    or a floating point number (to represent fractions of seconds).\n    The Epoch is system-defined; on Unix, it is generally January 1st, 1970.\n    The actual value can be retrieved by calling gmtime(0).\n    \n    The other representation is a tuple of 9 integers giving local time.\n    The tuple items are:\n      year (including century, e.g. 1998)\n      month (1-12)\n      day (1-31)\n      hours (0-23)\n      minutes (0-59)\n      seconds (0-59)\n      weekday (0-6, Monday is 0)\n      Julian day (day in the year, 1-366)\n      DST (Daylight Savings Time) flag (-1, 0 or 1)\n    If the DST flag is 0, the time is given in the regular time zone;\n    if it is 1, the time is given in the DST time zone;\n    if it is -1, mktime() should guess based on the date and time.\n\nCLASSES\n    builtins.tuple(builtins.object)\n        struct_time\n    \n    class struct_time(builtins.tuple)\n     |  struct_time(iterable=(), /)\n     |  \n     |  The time value as returned by gmtime(), localtime(), and strptime(), and\n     |  accepted by asctime(), mktime() and strftime().  May be considered as a\n     |  sequence of 9 integers.\n     |  \n     |  Note that several fields' values are not the same as those defined by\n     |  the C language standard for struct tm.  For example, the value of the\n     |  field tm_year is the actual year, not year - 1900.  See individual\n     |  fields' descriptions for details.\n     |  \n     |  Method resolution order:\n     |      struct_time\n     |      builtins.tuple\n     |      builtins.object\n     |  \n     |  Methods defined here:\n     |  \n     |  __reduce__(...)\n     |      Helper for pickle.\n     |  \n     |  __repr__(self, /)\n     |      Return repr(self).\n     |  \n     |  ----------------------------------------------------------------------\n     |  Static methods defined here:\n     |  \n     |  __new__(*args, **kwargs) from builtins.type\n     |      Create and return a new object.  See help(type) for accurate signature.\n     |  \n     |  ----------------------------------------------------------------------\n     |  Data descriptors defined here:\n     |  \n     |  tm_gmtoff\n     |      offset from UTC in seconds\n     |  \n     |  tm_hour\n     |      hours, range [0, 23]\n     |  \n     |  tm_isdst\n     |      1 if summer time is in effect, 0 if not, and -1 if unknown\n     |  \n     |  tm_mday\n     |      day of month, range [1, 31]\n     |  \n     |  tm_min\n     |      minutes, range [0, 59]\n     |  \n     |  tm_mon\n     |      month of year, range [1, 12]\n     |  \n     |  tm_sec\n     |      seconds, range [0, 61])\n     |  \n     |  tm_wday\n     |      day of week, range [0, 6], Monday is 0\n     |  \n     |  tm_yday\n     |      day of year, range [1, 366]\n     |  \n     |  tm_year\n     |      year, for example, 1993\n     |  \n     |  tm_zone\n     |      abbreviation of timezone name\n     |  \n     |  ----------------------------------------------------------------------\n     |  Data and other attributes defined here:\n     |  \n     |  n_fields = 11\n     |  \n     |  n_sequence_fields = 9\n     |  \n     |  n_unnamed_fields = 0\n     |  \n     |  ----------------------------------------------------------------------\n     |  Methods inherited from builtins.tuple:\n     |  \n     |  __add__(self, value, /)\n     |      Return self+value.\n     |  \n     |  __contains__(self, key, /)\n     |      Return key in self.\n     |  \n     |  __eq__(self, value, /)\n     |      Return self==value.\n     |  \n     |  __ge__(self, value, /)\n     |      Return self>=value.\n     |  \n     |  __getattribute__(self, name, /)\n     |      Return getattr(self, name).\n     |  \n     |  __getitem__(self, key, /)\n     |      Return self[key].\n     |  \n     |  __getnewargs__(self, /)\n     |  \n     |  __gt__(self, value, /)\n     |      Return self>value.\n     |  \n     |  __hash__(self, /)\n     |      Return hash(self).\n     |  \n     |  __iter__(self, /)\n     |      Implement iter(self).\n     |  \n     |  __le__(self, value, /)\n     |      Return self<=value.\n     |  \n     |  __len__(self, /)\n     |      Return len(self).\n     |  \n     |  __lt__(self, value, /)\n     |      Return self<value.\n     |  \n     |  __mul__(self, value, /)\n     |      Return self*value.\n     |  \n     |  __ne__(self, value, /)\n     |      Return self!=value.\n     |  \n     |  __rmul__(self, value, /)\n     |      Return value*self.\n     |  \n     |  count(self, value, /)\n     |      Return number of occurrences of value.\n     |  \n     |  index(self, value, start=0, stop=9223372036854775807, /)\n     |      Return first index of value.\n     |      \n     |      Raises ValueError if the value is not present.\n\nFUNCTIONS\n    asctime(...)\n        asctime([tuple]) -> string\n        \n        Convert a time tuple to a string, e.g. 'Sat Jun 06 16:26:11 1998'.\n        When the time tuple is not present, current time as returned by localtime()\n        is used.\n    \n    ctime(...)\n        ctime(seconds) -> string\n        \n        Convert a time in seconds since the Epoch to a string in local time.\n        This is equivalent to asctime(localtime(seconds)). When the time tuple is\n        not present, current time as returned by localtime() is used.\n    \n    get_clock_info(...)\n        get_clock_info(name: str) -> dict\n        \n        Get information of the specified clock.\n    \n    gmtime(...)\n        gmtime([seconds]) -> (tm_year, tm_mon, tm_mday, tm_hour, tm_min,\n                               tm_sec, tm_wday, tm_yday, tm_isdst)\n        \n        Convert seconds since the Epoch to a time tuple expressing UTC (a.k.a.\n        GMT).  When 'seconds' is not passed in, convert the current time instead.\n        \n        If the platform supports the tm_gmtoff and tm_zone, they are available as\n        attributes only.\n    \n    localtime(...)\n        localtime([seconds]) -> (tm_year,tm_mon,tm_mday,tm_hour,tm_min,\n                                  tm_sec,tm_wday,tm_yday,tm_isdst)\n        \n        Convert seconds since the Epoch to a time tuple expressing local time.\n        When 'seconds' is not passed in, convert the current time instead.\n    \n    mktime(...)\n        mktime(tuple) -> floating point number\n        \n        Convert a time tuple in local time to seconds since the Epoch.\n        Note that mktime(gmtime(0)) will not generally return zero for most\n        time zones; instead the returned value will either be equal to that\n        of the timezone or altzone attributes on the time module.\n    \n    monotonic(...)\n        monotonic() -> float\n        \n        Monotonic clock, cannot go backward.\n    \n    monotonic_ns(...)\n        monotonic_ns() -> int\n        \n        Monotonic clock, cannot go backward, as nanoseconds.\n    \n    perf_counter(...)\n        perf_counter() -> float\n        \n        Performance counter for benchmarking.\n    \n    perf_counter_ns(...)\n        perf_counter_ns() -> int\n        \n        Performance counter for benchmarking as nanoseconds.\n    \n    process_time(...)\n        process_time() -> float\n        \n        Process time for profiling: sum of the kernel and user-space CPU time.\n    \n    process_time_ns(...)\n        process_time() -> int\n        \n        Process time for profiling as nanoseconds:\n        sum of the kernel and user-space CPU time.\n    \n    sleep(...)\n        sleep(seconds)\n        \n        Delay execution for a given number of seconds.  The argument may be\n        a floating point number for subsecond precision.\n    \n    strftime(...)\n        strftime(format[, tuple]) -> string\n        \n        Convert a time tuple to a string according to a format specification.\n        See the library reference manual for formatting codes. When the time tuple\n        is not present, current time as returned by localtime() is used.\n        \n        Commonly used format codes:\n        \n        %Y  Year with century as a decimal number.\n        %m  Month as a decimal number [01,12].\n        %d  Day of the month as a decimal number [01,31].\n        %H  Hour (24-hour clock) as a decimal number [00,23].\n        %M  Minute as a decimal number [00,59].\n        %S  Second as a decimal number [00,61].\n        %z  Time zone offset from UTC.\n        %a  Locale's abbreviated weekday name.\n        %A  Locale's full weekday name.\n        %b  Locale's abbreviated month name.\n        %B  Locale's full month name.\n        %c  Locale's appropriate date and time representation.\n        %I  Hour (12-hour clock) as a decimal number [01,12].\n        %p  Locale's equivalent of either AM or PM.\n        \n        Other codes may be available on your platform.  See documentation for\n        the C library strftime function.\n    \n    strptime(...)\n        strptime(string, format) -> struct_time\n        \n        Parse a string to a time tuple according to a format specification.\n        See the library reference manual for formatting codes (same as\n        strftime()).\n        \n        Commonly used format codes:\n        \n        %Y  Year with century as a decimal number.\n        %m  Month as a decimal number [01,12].\n        %d  Day of the month as a decimal number [01,31].\n        %H  Hour (24-hour clock) as a decimal number [00,23].\n        %M  Minute as a decimal number [00,59].\n        %S  Second as a decimal number [00,61].\n        %z  Time zone offset from UTC.\n        %a  Locale's abbreviated weekday name.\n        %A  Locale's full weekday name.\n        %b  Locale's abbreviated month name.\n        %B  Locale's full month name.\n        %c  Locale's appropriate date and time representation.\n        %I  Hour (12-hour clock) as a decimal number [01,12].\n        %p  Locale's equivalent of either AM or PM.\n        \n        Other codes may be available on your platform.  See documentation for\n        the C library strftime function.\n    \n    time(...)\n        time() -> floating point number\n        \n        Return the current time in seconds since the Epoch.\n        Fractions of a second may be present if the system clock provides them.\n    \n    time_ns(...)\n        time_ns() -> int\n        \n        Return the current time in nanoseconds since the Epoch.\n    \n    tzset(...)\n        tzset()\n        \n        Initialize, or reinitialize, the local timezone to the value stored in\n        os.environ['TZ']. The TZ environment variable should be specified in\n        standard Unix timezone format as documented in the tzset man page\n        (eg. 'US/Eastern', 'Europe/Amsterdam'). Unknown timezones will silently\n        fall back to UTC. If the TZ environment variable is not set, the local\n        timezone is set to the systems best guess of wallclock time.\n        Changing the TZ environment variable without calling tzset *may* change\n        the local timezone used by methods such as localtime, but this behaviour\n        should not be relied on.\n\nDATA\n    altzone = -7200\n    daylight = 1\n    timezone = -3600\n    tzname = ('CET', 'CEST')\n\nFILE\n    (built-in)\n\n\n"
     ]
    }
   ],
   "source": [
    "import time\n",
    "help(time)"
   ]
  },
  {
   "cell_type": "code",
   "execution_count": 18,
   "metadata": {},
   "outputs": [
    {
     "output_type": "stream",
     "name": "stdout",
     "text": [
      "1605465419.2713978\n"
     ]
    }
   ],
   "source": [
    "print(time.time())"
   ]
  },
  {
   "cell_type": "code",
   "execution_count": 15,
   "metadata": {},
   "outputs": [
    {
     "output_type": "stream",
     "name": "stdout",
     "text": [
      "  11574 jours  1 heure  46 minutes  40 secondes\nAnnée 2001   259 jours  1 heure  46 minutes  40 secondes\nAnnée 2020   336 jours  17 heures  11 minutes  7 secondes\n"
     ]
    }
   ],
   "source": [
    "import time\n",
    "\n",
    "def tempsEnDate(temps):\n",
    "    jour, heure, minute, seconde = temps\n",
    "    annee = 1970 + jour // 365\n",
    "    jour %= 365\n",
    "    return (annee, jour, heure, minute, seconde)\n",
    "\n",
    "def afficheDate(date = -1):\n",
    "    if date == -1:\n",
    "        date = tempsEnDate(secondeEnTemps(int(time.time())))\n",
    "    annee, jour, heure, minute, seconde = date\n",
    "    print(\"Année\", annee, end = \" \")\n",
    "    afficheTemps((jour%365, heure, minute, seconde))\n",
    "    \n",
    "temps = secondeEnTemps(1000000000)\n",
    "afficheTemps(temps)\n",
    "######################################\n",
    "afficheDate(tempsEnDate(temps))\n",
    "afficheDate()"
   ]
  },
  {
   "cell_type": "markdown",
   "metadata": {},
   "source": [
    "Il existe des fonctions dans la librairie `time` pour la gestion du temps. En particulier, il existe\n",
    "une fonction `time` qui donne le temps écoulé depuis 1970 en secondes. \n",
    "La trouver avec la [documentation python](https://docs.python.org/fr/3/library/time.html#module-time) et la tester en utilisant `afficheDate`. \n",
    "Tester de la même manière la fonction `time.gmtime` qui réalise une tâche similaire à `tempsEnDate`.\n",
    "Que constatez vous ?"
   ]
  },
  {
   "cell_type": "code",
   "execution_count": 27,
   "metadata": {},
   "outputs": [
    {
     "output_type": "stream",
     "name": "stdout",
     "text": [
      "time.struct_time(tm_year=2020, tm_mon=11, tm_mday=10, tm_hour=13, tm_min=41, tm_sec=6, tm_wday=1, tm_yday=315, tm_isdst=0)\nHelp on built-in module time:\n\nNAME\n    time - This module provides various functions to manipulate time values.\n\nDESCRIPTION\n    There are two standard representations of time.  One is the number\n    of seconds since the Epoch, in UTC (a.k.a. GMT).  It may be an integer\n    or a floating point number (to represent fractions of seconds).\n    The Epoch is system-defined; on Unix, it is generally January 1st, 1970.\n    The actual value can be retrieved by calling gmtime(0).\n    \n    The other representation is a tuple of 9 integers giving local time.\n    The tuple items are:\n      year (including century, e.g. 1998)\n      month (1-12)\n      day (1-31)\n      hours (0-23)\n      minutes (0-59)\n      seconds (0-59)\n      weekday (0-6, Monday is 0)\n      Julian day (day in the year, 1-366)\n      DST (Daylight Savings Time) flag (-1, 0 or 1)\n    If the DST flag is 0, the time is given in the regular time zone;\n    if it is 1, the time is given in the DST time zone;\n    if it is -1, mktime() should guess based on the date and time.\n\nCLASSES\n    builtins.tuple(builtins.object)\n        struct_time\n    \n    class struct_time(builtins.tuple)\n     |  struct_time(iterable=(), /)\n     |  \n     |  The time value as returned by gmtime(), localtime(), and strptime(), and\n     |  accepted by asctime(), mktime() and strftime().  May be considered as a\n     |  sequence of 9 integers.\n     |  \n     |  Note that several fields' values are not the same as those defined by\n     |  the C language standard for struct tm.  For example, the value of the\n     |  field tm_year is the actual year, not year - 1900.  See individual\n     |  fields' descriptions for details.\n     |  \n     |  Method resolution order:\n     |      struct_time\n     |      builtins.tuple\n     |      builtins.object\n     |  \n     |  Methods defined here:\n     |  \n     |  __reduce__(...)\n     |      Helper for pickle.\n     |  \n     |  __repr__(self, /)\n     |      Return repr(self).\n     |  \n     |  ----------------------------------------------------------------------\n     |  Static methods defined here:\n     |  \n     |  __new__(*args, **kwargs) from builtins.type\n     |      Create and return a new object.  See help(type) for accurate signature.\n     |  \n     |  ----------------------------------------------------------------------\n     |  Data descriptors defined here:\n     |  \n     |  tm_gmtoff\n     |      offset from UTC in seconds\n     |  \n     |  tm_hour\n     |      hours, range [0, 23]\n     |  \n     |  tm_isdst\n     |      1 if summer time is in effect, 0 if not, and -1 if unknown\n     |  \n     |  tm_mday\n     |      day of month, range [1, 31]\n     |  \n     |  tm_min\n     |      minutes, range [0, 59]\n     |  \n     |  tm_mon\n     |      month of year, range [1, 12]\n     |  \n     |  tm_sec\n     |      seconds, range [0, 61])\n     |  \n     |  tm_wday\n     |      day of week, range [0, 6], Monday is 0\n     |  \n     |  tm_yday\n     |      day of year, range [1, 366]\n     |  \n     |  tm_year\n     |      year, for example, 1993\n     |  \n     |  tm_zone\n     |      abbreviation of timezone name\n     |  \n     |  ----------------------------------------------------------------------\n     |  Data and other attributes defined here:\n     |  \n     |  n_fields = 11\n     |  \n     |  n_sequence_fields = 9\n     |  \n     |  n_unnamed_fields = 0\n     |  \n     |  ----------------------------------------------------------------------\n     |  Methods inherited from builtins.tuple:\n     |  \n     |  __add__(self, value, /)\n     |      Return self+value.\n     |  \n     |  __contains__(self, key, /)\n     |      Return key in self.\n     |  \n     |  __eq__(self, value, /)\n     |      Return self==value.\n     |  \n     |  __ge__(self, value, /)\n     |      Return self>=value.\n     |  \n     |  __getattribute__(self, name, /)\n     |      Return getattr(self, name).\n     |  \n     |  __getitem__(self, key, /)\n     |      Return self[key].\n     |  \n     |  __getnewargs__(self, /)\n     |  \n     |  __gt__(self, value, /)\n     |      Return self>value.\n     |  \n     |  __hash__(self, /)\n     |      Return hash(self).\n     |  \n     |  __iter__(self, /)\n     |      Implement iter(self).\n     |  \n     |  __le__(self, value, /)\n     |      Return self<=value.\n     |  \n     |  __len__(self, /)\n     |      Return len(self).\n     |  \n     |  __lt__(self, value, /)\n     |      Return self<value.\n     |  \n     |  __mul__(self, value, /)\n     |      Return self*value.\n     |  \n     |  __ne__(self, value, /)\n     |      Return self!=value.\n     |  \n     |  __rmul__(self, value, /)\n     |      Return value*self.\n     |  \n     |  count(self, value, /)\n     |      Return number of occurrences of value.\n     |  \n     |  index(self, value, start=0, stop=9223372036854775807, /)\n     |      Return first index of value.\n     |      \n     |      Raises ValueError if the value is not present.\n\nFUNCTIONS\n    asctime(...)\n        asctime([tuple]) -> string\n        \n        Convert a time tuple to a string, e.g. 'Sat Jun 06 16:26:11 1998'.\n        When the time tuple is not present, current time as returned by localtime()\n        is used.\n    \n    ctime(...)\n        ctime(seconds) -> string\n        \n        Convert a time in seconds since the Epoch to a string in local time.\n        This is equivalent to asctime(localtime(seconds)). When the time tuple is\n        not present, current time as returned by localtime() is used.\n    \n    get_clock_info(...)\n        get_clock_info(name: str) -> dict\n        \n        Get information of the specified clock.\n    \n    gmtime(...)\n        gmtime([seconds]) -> (tm_year, tm_mon, tm_mday, tm_hour, tm_min,\n                               tm_sec, tm_wday, tm_yday, tm_isdst)\n        \n        Convert seconds since the Epoch to a time tuple expressing UTC (a.k.a.\n        GMT).  When 'seconds' is not passed in, convert the current time instead.\n        \n        If the platform supports the tm_gmtoff and tm_zone, they are available as\n        attributes only.\n    \n    localtime(...)\n        localtime([seconds]) -> (tm_year,tm_mon,tm_mday,tm_hour,tm_min,\n                                  tm_sec,tm_wday,tm_yday,tm_isdst)\n        \n        Convert seconds since the Epoch to a time tuple expressing local time.\n        When 'seconds' is not passed in, convert the current time instead.\n    \n    mktime(...)\n        mktime(tuple) -> floating point number\n        \n        Convert a time tuple in local time to seconds since the Epoch.\n        Note that mktime(gmtime(0)) will not generally return zero for most\n        time zones; instead the returned value will either be equal to that\n        of the timezone or altzone attributes on the time module.\n    \n    monotonic(...)\n        monotonic() -> float\n        \n        Monotonic clock, cannot go backward.\n    \n    monotonic_ns(...)\n        monotonic_ns() -> int\n        \n        Monotonic clock, cannot go backward, as nanoseconds.\n    \n    perf_counter(...)\n        perf_counter() -> float\n        \n        Performance counter for benchmarking.\n    \n    perf_counter_ns(...)\n        perf_counter_ns() -> int\n        \n        Performance counter for benchmarking as nanoseconds.\n    \n    process_time(...)\n        process_time() -> float\n        \n        Process time for profiling: sum of the kernel and user-space CPU time.\n    \n    process_time_ns(...)\n        process_time() -> int\n        \n        Process time for profiling as nanoseconds:\n        sum of the kernel and user-space CPU time.\n    \n    sleep(...)\n        sleep(seconds)\n        \n        Delay execution for a given number of seconds.  The argument may be\n        a floating point number for subsecond precision.\n    \n    strftime(...)\n        strftime(format[, tuple]) -> string\n        \n        Convert a time tuple to a string according to a format specification.\n        See the library reference manual for formatting codes. When the time tuple\n        is not present, current time as returned by localtime() is used.\n        \n        Commonly used format codes:\n        \n        %Y  Year with century as a decimal number.\n        %m  Month as a decimal number [01,12].\n        %d  Day of the month as a decimal number [01,31].\n        %H  Hour (24-hour clock) as a decimal number [00,23].\n        %M  Minute as a decimal number [00,59].\n        %S  Second as a decimal number [00,61].\n        %z  Time zone offset from UTC.\n        %a  Locale's abbreviated weekday name.\n        %A  Locale's full weekday name.\n        %b  Locale's abbreviated month name.\n        %B  Locale's full month name.\n        %c  Locale's appropriate date and time representation.\n        %I  Hour (12-hour clock) as a decimal number [01,12].\n        %p  Locale's equivalent of either AM or PM.\n        \n        Other codes may be available on your platform.  See documentation for\n        the C library strftime function.\n    \n    strptime(...)\n        strptime(string, format) -> struct_time\n        \n        Parse a string to a time tuple according to a format specification.\n        See the library reference manual for formatting codes (same as\n        strftime()).\n        \n        Commonly used format codes:\n        \n        %Y  Year with century as a decimal number.\n        %m  Month as a decimal number [01,12].\n        %d  Day of the month as a decimal number [01,31].\n        %H  Hour (24-hour clock) as a decimal number [00,23].\n        %M  Minute as a decimal number [00,59].\n        %S  Second as a decimal number [00,61].\n        %z  Time zone offset from UTC.\n        %a  Locale's abbreviated weekday name.\n        %A  Locale's full weekday name.\n        %b  Locale's abbreviated month name.\n        %B  Locale's full month name.\n        %c  Locale's appropriate date and time representation.\n        %I  Hour (12-hour clock) as a decimal number [01,12].\n        %p  Locale's equivalent of either AM or PM.\n        \n        Other codes may be available on your platform.  See documentation for\n        the C library strftime function.\n    \n    time(...)\n        time() -> floating point number\n        \n        Return the current time in seconds since the Epoch.\n        Fractions of a second may be present if the system clock provides them.\n    \n    time_ns(...)\n        time_ns() -> int\n        \n        Return the current time in nanoseconds since the Epoch.\n    \n    tzset(...)\n        tzset()\n        \n        Initialize, or reinitialize, the local timezone to the value stored in\n        os.environ['TZ']. The TZ environment variable should be specified in\n        standard Unix timezone format as documented in the tzset man page\n        (eg. 'US/Eastern', 'Europe/Amsterdam'). Unknown timezones will silently\n        fall back to UTC. If the TZ environment variable is not set, the local\n        timezone is set to the systems best guess of wallclock time.\n        Changing the TZ environment variable without calling tzset *may* change\n        the local timezone used by methods such as localtime, but this behaviour\n        should not be relied on.\n\nDATA\n    altzone = -7200\n    daylight = 1\n    timezone = -3600\n    tzname = ('CET', 'CEST')\n\nFILE\n    (built-in)\n\n\n"
     ]
    }
   ],
   "source": [
    "import time\n",
    "\n",
    "print(time.gmtime(time.time()))\n",
    "help(time)"
   ]
  },
  {
   "cell_type": "markdown",
   "metadata": {},
   "source": [
    "Attention, tous les 4 ans les années sont bisextiles (un jour de plus) sauf les multiples de 100 qui ne sont pas des multiples de 400.\n",
    "Donner un code qui prend un nombre de jours et affiche toutes les années bisextiles depuis 1 janvier 1970 à 00:00:00 jusqu'à la fin de ces jours."
   ]
  },
  {
   "cell_type": "code",
   "execution_count": 7,
   "metadata": {},
   "outputs": [
    {
     "output_type": "stream",
     "name": "stdout",
     "text": [
      "Année 1972 bisesxtile\nAnnée 1976 bisesxtile\nAnnée 1980 bisesxtile\nAnnée 1984 bisesxtile\nAnnée 1988 bisesxtile\nAnnée 1992 bisesxtile\nAnnée 1996 bisesxtile\nAnnée 2000 bisesxtile\nAnnée 2004 bisesxtile\nAnnée 2008 bisesxtile\nAnnée 2012 bisesxtile\nAnnée 2016 bisesxtile\nAnnée 2020 bisesxtile\nAnnée 2024 bisesxtile\n"
     ]
    }
   ],
   "source": [
    "def bisextile(jour):\n",
    "    annee = 1970\n",
    "    while(jour >= 0):\n",
    "        if (annee % 4 == 0 and annee % 100 != 0) or (annee % 400 == 0):\n",
    "            print(\"Année\", annee, \"bisesxtile\")\n",
    "            jour -= 366\n",
    "        else:\n",
    "            jour -= 365\n",
    "        annee += 1\n",
    "        \n",
    "bisextile(20000)"
   ]
  },
  {
   "cell_type": "markdown",
   "metadata": {},
   "source": [
    "Implémenter une fonction `nombreBisextile` qui calcule le nombre d'années bisextiles pour un nombre de jour donnés pour corriger votre fonction de calcul de la date."
   ]
  },
  {
   "cell_type": "code",
   "execution_count": 23,
   "metadata": {},
   "outputs": [
    {
     "output_type": "stream",
     "name": "stdout",
     "text": [
      "  14236 jours  2 heures  40 minutes\nAnnée 2008   356 jours  2 heures  40 minutes\n"
     ]
    }
   ],
   "source": [
    "def nombreBisextile(jour):\n",
    "    annee = 1970\n",
    "    b = 0\n",
    "    while(jour >= 0):\n",
    "        if (annee % 4 == 0 and (annee % 100 != 0 or annee % 400 == 0)):\n",
    "            b += 1\n",
    "            jour -= 366\n",
    "        else:\n",
    "            jour -= 365\n",
    "        annee += 1\n",
    "    return b\n",
    "\n",
    "def tempsEnDateBisextile(temps):\n",
    "    jour, heure, minute, seconde = temps\n",
    "    return tempsEnDate((jour - nombreBisextile(jour),heure,minute,seconde)) \n",
    "   \n",
    "temps = secondeEnTemps(1230000000)\n",
    "afficheTemps(temps)\n",
    "afficheDate(tempsEnDateBisextile(temps))"
   ]
  },
  {
   "cell_type": "markdown",
   "metadata": {},
   "source": [
    "Ajouter des valeurs par défaut dans le code de `afficheDate` afin de pouvoir ommettre\n",
    "l'argument de ces fonctions. Dans ce cas là, on affichera la date actuelle en utilisant la fonction `time`."
   ]
  },
  {
   "cell_type": "markdown",
   "metadata": {},
   "source": [
    "On va maintenant inspecter notre code pour améliorer sa qualité:\n",
    "\n",
    "* Regarder tous les warnings donnés par flake8 et essayer de les régler.\n",
    "* Utiliser le debugger (F5) pour étudier le fonctionnement de votre fonction nombreBisextile.\n",
    "* Mettre les annotations de type des arguments et du retour de la fonction pour nombreBisextile et une autre fonction de votre choix. Vérifier avec mypy que tout fonctionne bien."
   ]
  },
  {
   "cell_type": "markdown",
   "metadata": {},
   "source": [
    "Donner une fonction qui vérifie la charge horaire d'un employé, donnée sous forme d'une liste de temps travaillé chaque semaine dans un mois. Il ne faut pas dépasser 48h par semaine et 140h par mois (qu'on considère ici de 4 semaines).\n",
    "\n",
    "(Optionnel) S'adapter à une liste qui peut contenir plusieurs mois."
   ]
  },
  {
   "cell_type": "code",
   "execution_count": 26,
   "metadata": {},
   "outputs": [
    {
     "output_type": "stream",
     "name": "stdout",
     "text": [
      "319335\n"
     ]
    }
   ],
   "source": [
    "def verifie(liste_temps):\n",
    "    if (len(liste_temps) != 4):\n",
    "        print(\"Liste mal formée\")\n",
    "        return False\n",
    "    temps_total = 0\n",
    "    for elem in liste_temps:\n",
    "        if (tempsEnSeconde(elem) > tempsEnSeconde((0,48,0,0))):\n",
    "            return False \n",
    "        temps_total += tempsEnSeconde(elem)\n",
    "    #return temps_total <= tempsEnSeconde ((0,140,0,0))\n",
    "    return temps_total\n",
    "\n",
    "liste_temps = [[1,2,39,34],[0,1,9,4],[0,29,39,51],[0,31,13,46]] #chaque élément représente 1 semaine (donc les 4 éléments --> 1 mois)exemple: [jour=1,heure=2,minute=39,seconde=34]\n",
    "print(verifie(liste_temps))"
   ]
  }
 ],
 "metadata": {
  "kernelspec": {
   "display_name": "Python 3",
   "language": "python",
   "name": "python3"
  },
  "language_info": {
   "codemirror_mode": {
    "name": "ipython",
    "version": 3
   },
   "file_extension": ".py",
   "mimetype": "text/x-python",
   "name": "python",
   "nbconvert_exporter": "python",
   "pygments_lexer": "ipython3",
   "version": "3.8.5-final"
  }
 },
 "nbformat": 4,
 "nbformat_minor": 4
}